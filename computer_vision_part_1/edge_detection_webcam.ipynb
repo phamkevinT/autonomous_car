{
 "cells": [
  {
   "cell_type": "markdown",
   "metadata": {},
   "source": [
    "#  CODE FOR CANNY EDGE DETECTION USING LIVE WEBCAM"
   ]
  },
  {
   "cell_type": "code",
   "execution_count": 1,
   "metadata": {},
   "outputs": [
    {
     "name": "stdout",
     "output_type": "stream",
     "text": [
      "Requirement already satisfied: opencv-python in d:\\python_projects\\mlds_course\\fundamentals\\env\\lib\\site-packages (4.6.0.66)\n",
      "Requirement already satisfied: numpy>=1.17.3 in d:\\python_projects\\mlds_course\\fundamentals\\env\\lib\\site-packages (from opencv-python) (1.23.3)\n"
     ]
    }
   ],
   "source": [
    "import sys\n",
    "!{sys.executable} -m pip install opencv-python"
   ]
  },
  {
   "cell_type": "markdown",
   "metadata": {},
   "source": [
    "# Import all the necessary libraries"
   ]
  },
  {
   "cell_type": "code",
   "execution_count": 2,
   "metadata": {},
   "outputs": [],
   "source": [
    "import matplotlib.image as mpimg\n",
    "import matplotlib.pyplot as plt\n",
    "import numpy as np\n",
    "import cv2"
   ]
  },
  {
   "cell_type": "markdown",
   "metadata": {},
   "source": [
    "# Let's get Live Camera Canny "
   ]
  },
  {
   "cell_type": "code",
   "execution_count": 3,
   "metadata": {},
   "outputs": [],
   "source": [
    "# Get image from webcame and apply Canny method\n",
    "def LiveCamEdgeDetection_canny(image_color):\n",
    "            \n",
    "    threshold_1 = 30\n",
    "    threshold_2 = 80\n",
    "    image_gray = cv2.cvtColor(image_color, cv2.COLOR_BGR2GRAY)\n",
    "    canny = cv2.Canny(image_gray, threshold_1, threshold_2)\n",
    "    \n",
    "    return canny\n"
   ]
  },
  {
   "cell_type": "markdown",
   "metadata": {},
   "source": [
    "# Let's get Live Camera Laplacian "
   ]
  },
  {
   "cell_type": "code",
   "execution_count": 4,
   "metadata": {},
   "outputs": [],
   "source": [
    "def LiveCamEdgeDetection_Laplace(image_color):\n",
    "\n",
    "    image_gray = cv2.cvtColor(image_color, cv2.COLOR_BGR2GRAY)\n",
    "    laplacian = cv2.Laplacian(image_gray, cv2.CV_64F)\n",
    "    \n",
    "    return laplacian"
   ]
  },
  {
   "cell_type": "markdown",
   "metadata": {},
   "source": [
    "# Let's get Live Camera Sobel y "
   ]
  },
  {
   "cell_type": "code",
   "execution_count": 5,
   "metadata": {},
   "outputs": [],
   "source": [
    "def LiveCamEdgeDetection_sobely(image_color):\n",
    "\n",
    "    image_gray = cv2.cvtColor(image_color, cv2.COLOR_BGR2GRAY)\n",
    "    y_sobel = cv2.Sobel(image_gray, cv2.CV_64F, 1, 0, ksize = 7)\n",
    "    \n",
    "    return y_sobel"
   ]
  },
  {
   "cell_type": "markdown",
   "metadata": {},
   "source": [
    "# Let's get Live Camera Sobel x "
   ]
  },
  {
   "cell_type": "code",
   "execution_count": 6,
   "metadata": {},
   "outputs": [],
   "source": [
    "def LiveCamEdgeDetection_sobelx(image_color):\n",
    "\n",
    "    image_gray = cv2.cvtColor(image_color, cv2.COLOR_BGR2GRAY)\n",
    "    x_sobel = cv2.Sobel(image_gray, cv2.CV_64F, 0, 1, ksize = 7)\n",
    "    \n",
    "    return x_sobel"
   ]
  },
  {
   "cell_type": "markdown",
   "metadata": {},
   "source": [
    "# Main calling function to initialize webcam and apply edge detection"
   ]
  },
  {
   "cell_type": "code",
   "execution_count": 9,
   "metadata": {},
   "outputs": [],
   "source": [
    "cap = cv2.VideoCapture(0)\n",
    "\n",
    "while True:\n",
    "    ret, frame = cap.read() # Cap.read() returns a ret bool to indicate success.\n",
    "    cv2.imshow('Canny Method', LiveCamEdgeDetection_canny(frame)) # Canny Method\n",
    "    cv2.imshow('Laplace Method', LiveCamEdgeDetection_Laplace(frame)) # Laplace Method\n",
    "    cv2.imshow('Sobel X', LiveCamEdgeDetection_sobelx(frame)) # Sobel - X axis\n",
    "    cv2.imshow('Sobel Y', LiveCamEdgeDetection_sobely(frame)) # Sovel - Y axis\n",
    "    cv2.imshow('Webcam Video', frame)\n",
    "    if cv2.waitKey(1) == 13: #13 Enter Key\n",
    "        break\n",
    "        \n",
    "cap.release() # camera release \n",
    "cv2.destroyAllWindows()      "
   ]
  },
  {
   "cell_type": "code",
   "execution_count": null,
   "metadata": {},
   "outputs": [],
   "source": []
  }
 ],
 "metadata": {
  "kernelspec": {
   "display_name": "Python 3 (ipykernel)",
   "language": "python",
   "name": "python3"
  },
  "language_info": {
   "codemirror_mode": {
    "name": "ipython",
    "version": 3
   },
   "file_extension": ".py",
   "mimetype": "text/x-python",
   "name": "python",
   "nbconvert_exporter": "python",
   "pygments_lexer": "ipython3",
   "version": "3.10.6"
  },
  "widgets": {
   "state": {},
   "version": "1.1.2"
  }
 },
 "nbformat": 4,
 "nbformat_minor": 2
}
